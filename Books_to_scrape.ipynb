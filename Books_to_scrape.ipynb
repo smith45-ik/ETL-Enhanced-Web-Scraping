{
 "cells": [
  {
   "cell_type": "markdown",
   "id": "12468b59",
   "metadata": {},
   "source": [
    "## Import Libraries"
   ]
  },
  {
   "cell_type": "code",
   "execution_count": 1,
   "id": "754b55eb",
   "metadata": {},
   "outputs": [],
   "source": [
    "import requests\n",
    "from bs4 import BeautifulSoup\n",
    "import pandas as pd"
   ]
  },
  {
   "cell_type": "markdown",
   "id": "0d1139ab",
   "metadata": {},
   "source": [
    "# Extraction"
   ]
  },
  {
   "cell_type": "code",
   "execution_count": 2,
   "id": "69c335a8",
   "metadata": {},
   "outputs": [],
   "source": [
    "url = 'https://books.toscrape.com/catalogue/page-1.html'"
   ]
  },
  {
   "cell_type": "code",
   "execution_count": 3,
   "id": "70a9934a",
   "metadata": {},
   "outputs": [
    {
     "data": {
      "text/plain": [
       "<Response [200]>"
      ]
     },
     "execution_count": 3,
     "metadata": {},
     "output_type": "execute_result"
    }
   ],
   "source": [
    "response = requests.get(url)\n",
    "response"
   ]
  },
  {
   "cell_type": "code",
   "execution_count": 4,
   "id": "ec5aebd1",
   "metadata": {},
   "outputs": [],
   "source": [
    "soup_obj = BeautifulSoup(response.text, 'html.parser')"
   ]
  },
  {
   "cell_type": "code",
   "execution_count": 5,
   "id": "8b70d5b6",
   "metadata": {},
   "outputs": [],
   "source": [
    "titles = []\n",
    "prices = []\n",
    "ratings = []\n",
    "availability = []\n",
    "images = []"
   ]
  },
  {
   "cell_type": "code",
   "execution_count": 6,
   "id": "11d8bd0b",
   "metadata": {},
   "outputs": [],
   "source": [
    "for k in soup_obj.find_all('h3'):\n",
    "    for i in k:\n",
    "        titles.append(i.get('title'))"
   ]
  },
  {
   "cell_type": "code",
   "execution_count": 7,
   "id": "0314b74b",
   "metadata": {},
   "outputs": [
    {
     "data": {
      "text/plain": [
       "['A Light in the Attic',\n",
       " 'Tipping the Velvet',\n",
       " 'Soumission',\n",
       " 'Sharp Objects',\n",
       " 'Sapiens: A Brief History of Humankind',\n",
       " 'The Requiem Red',\n",
       " 'The Dirty Little Secrets of Getting Your Dream Job',\n",
       " 'The Coming Woman: A Novel Based on the Life of the Infamous Feminist, Victoria Woodhull',\n",
       " 'The Boys in the Boat: Nine Americans and Their Epic Quest for Gold at the 1936 Berlin Olympics',\n",
       " 'The Black Maria',\n",
       " 'Starving Hearts (Triangular Trade Trilogy, #1)',\n",
       " \"Shakespeare's Sonnets\",\n",
       " 'Set Me Free',\n",
       " \"Scott Pilgrim's Precious Little Life (Scott Pilgrim #1)\",\n",
       " 'Rip it Up and Start Again',\n",
       " 'Our Band Could Be Your Life: Scenes from the American Indie Underground, 1981-1991',\n",
       " 'Olio',\n",
       " 'Mesaerion: The Best Science Fiction Stories 1800-1849',\n",
       " 'Libertarianism for Beginners',\n",
       " \"It's Only the Himalayas\"]"
      ]
     },
     "execution_count": 7,
     "metadata": {},
     "output_type": "execute_result"
    }
   ],
   "source": [
    "titles"
   ]
  },
  {
   "cell_type": "code",
   "execution_count": 8,
   "id": "10269142",
   "metadata": {},
   "outputs": [],
   "source": [
    "for price in soup_obj.find_all('p', 'price_color'):\n",
    "    prices.append(price.text)"
   ]
  },
  {
   "cell_type": "code",
   "execution_count": 9,
   "id": "c4516ce7",
   "metadata": {},
   "outputs": [
    {
     "data": {
      "text/plain": [
       "20"
      ]
     },
     "execution_count": 9,
     "metadata": {},
     "output_type": "execute_result"
    }
   ],
   "source": [
    "len(prices)"
   ]
  },
  {
   "cell_type": "code",
   "execution_count": 10,
   "id": "15bc6fa7",
   "metadata": {},
   "outputs": [
    {
     "data": {
      "text/plain": [
       "['Â£51.77',\n",
       " 'Â£53.74',\n",
       " 'Â£50.10',\n",
       " 'Â£47.82',\n",
       " 'Â£54.23',\n",
       " 'Â£22.65',\n",
       " 'Â£33.34',\n",
       " 'Â£17.93',\n",
       " 'Â£22.60',\n",
       " 'Â£52.15',\n",
       " 'Â£13.99',\n",
       " 'Â£20.66',\n",
       " 'Â£17.46',\n",
       " 'Â£52.29',\n",
       " 'Â£35.02',\n",
       " 'Â£57.25',\n",
       " 'Â£23.88',\n",
       " 'Â£37.59',\n",
       " 'Â£51.33',\n",
       " 'Â£45.17']"
      ]
     },
     "execution_count": 10,
     "metadata": {},
     "output_type": "execute_result"
    }
   ],
   "source": [
    "prices"
   ]
  },
  {
   "cell_type": "code",
   "execution_count": 11,
   "id": "fae2ab71",
   "metadata": {},
   "outputs": [],
   "source": [
    "for i in soup_obj.find_all('p', 'star-rating'):\n",
    "    ratings.append(i.get('class')[1])"
   ]
  },
  {
   "cell_type": "code",
   "execution_count": 12,
   "id": "6abfdfce",
   "metadata": {},
   "outputs": [
    {
     "data": {
      "text/plain": [
       "['Three',\n",
       " 'One',\n",
       " 'One',\n",
       " 'Four',\n",
       " 'Five',\n",
       " 'One',\n",
       " 'Four',\n",
       " 'Three',\n",
       " 'Four',\n",
       " 'One',\n",
       " 'Two',\n",
       " 'Four',\n",
       " 'Five',\n",
       " 'Five',\n",
       " 'Five',\n",
       " 'Three',\n",
       " 'One',\n",
       " 'One',\n",
       " 'Two',\n",
       " 'Two']"
      ]
     },
     "execution_count": 12,
     "metadata": {},
     "output_type": "execute_result"
    }
   ],
   "source": [
    "ratings"
   ]
  },
  {
   "cell_type": "code",
   "execution_count": 13,
   "id": "ff43adb4",
   "metadata": {},
   "outputs": [],
   "source": [
    "for i in soup_obj.find_all('p', 'availability'):\n",
    "    availability.append(i.text.strip())"
   ]
  },
  {
   "cell_type": "code",
   "execution_count": 14,
   "id": "5afb81a7",
   "metadata": {},
   "outputs": [
    {
     "data": {
      "text/plain": [
       "['In stock',\n",
       " 'In stock',\n",
       " 'In stock',\n",
       " 'In stock',\n",
       " 'In stock',\n",
       " 'In stock',\n",
       " 'In stock',\n",
       " 'In stock',\n",
       " 'In stock',\n",
       " 'In stock',\n",
       " 'In stock',\n",
       " 'In stock',\n",
       " 'In stock',\n",
       " 'In stock',\n",
       " 'In stock',\n",
       " 'In stock',\n",
       " 'In stock',\n",
       " 'In stock',\n",
       " 'In stock',\n",
       " 'In stock']"
      ]
     },
     "execution_count": 14,
     "metadata": {},
     "output_type": "execute_result"
    }
   ],
   "source": [
    "availability"
   ]
  },
  {
   "cell_type": "code",
   "execution_count": 15,
   "id": "dc4b2d4d",
   "metadata": {},
   "outputs": [],
   "source": [
    "for i in soup_obj.find_all('img'):\n",
    "    images.append(i.get('src'))"
   ]
  },
  {
   "cell_type": "code",
   "execution_count": 16,
   "id": "edf380f5",
   "metadata": {},
   "outputs": [
    {
     "data": {
      "text/plain": [
       "['../media/cache/2c/da/2cdad67c44b002e7ead0cc35693c0e8b.jpg',\n",
       " '../media/cache/26/0c/260c6ae16bce31c8f8c95daddd9f4a1c.jpg',\n",
       " '../media/cache/3e/ef/3eef99c9d9adef34639f510662022830.jpg',\n",
       " '../media/cache/32/51/3251cf3a3412f53f339e42cac2134093.jpg',\n",
       " '../media/cache/be/a5/bea5697f2534a2f86a3ef27b5a8c12a6.jpg',\n",
       " '../media/cache/68/33/68339b4c9bc034267e1da611ab3b34f8.jpg',\n",
       " '../media/cache/92/27/92274a95b7c251fea59a2b8a78275ab4.jpg',\n",
       " '../media/cache/3d/54/3d54940e57e662c4dd1f3ff00c78cc64.jpg',\n",
       " '../media/cache/66/88/66883b91f6804b2323c8369331cb7dd1.jpg',\n",
       " '../media/cache/58/46/5846057e28022268153beff6d352b06c.jpg',\n",
       " '../media/cache/be/f4/bef44da28c98f905a3ebec0b87be8530.jpg',\n",
       " '../media/cache/10/48/1048f63d3b5061cd2f424d20b3f9b666.jpg',\n",
       " '../media/cache/5b/88/5b88c52633f53cacf162c15f4f823153.jpg',\n",
       " '../media/cache/94/b1/94b1b8b244bce9677c2f29ccc890d4d2.jpg',\n",
       " '../media/cache/81/c4/81c4a973364e17d01f217e1188253d5e.jpg',\n",
       " '../media/cache/54/60/54607fe8945897cdcced0044103b10b6.jpg',\n",
       " '../media/cache/55/33/553310a7162dfbc2c6d19a84da0df9e1.jpg',\n",
       " '../media/cache/09/a3/09a3aef48557576e1a85ba7efea8ecb7.jpg',\n",
       " '../media/cache/0b/bc/0bbcd0a6f4bcd81ccb1049a52736406e.jpg',\n",
       " '../media/cache/27/a5/27a53d0bb95bdd88288eaf66c9230d7e.jpg']"
      ]
     },
     "execution_count": 16,
     "metadata": {},
     "output_type": "execute_result"
    }
   ],
   "source": [
    "images"
   ]
  },
  {
   "cell_type": "code",
   "execution_count": 17,
   "id": "d59f9dee",
   "metadata": {},
   "outputs": [],
   "source": [
    "images = [i.replace('..', 'https://books.toscrape.com/catalogue/page-1.html') for i in images]"
   ]
  },
  {
   "cell_type": "code",
   "execution_count": 18,
   "id": "2cb32fb8",
   "metadata": {},
   "outputs": [
    {
     "data": {
      "text/plain": [
       "['https://books.toscrape.com/catalogue/page-1.html/media/cache/2c/da/2cdad67c44b002e7ead0cc35693c0e8b.jpg',\n",
       " 'https://books.toscrape.com/catalogue/page-1.html/media/cache/26/0c/260c6ae16bce31c8f8c95daddd9f4a1c.jpg',\n",
       " 'https://books.toscrape.com/catalogue/page-1.html/media/cache/3e/ef/3eef99c9d9adef34639f510662022830.jpg',\n",
       " 'https://books.toscrape.com/catalogue/page-1.html/media/cache/32/51/3251cf3a3412f53f339e42cac2134093.jpg',\n",
       " 'https://books.toscrape.com/catalogue/page-1.html/media/cache/be/a5/bea5697f2534a2f86a3ef27b5a8c12a6.jpg',\n",
       " 'https://books.toscrape.com/catalogue/page-1.html/media/cache/68/33/68339b4c9bc034267e1da611ab3b34f8.jpg',\n",
       " 'https://books.toscrape.com/catalogue/page-1.html/media/cache/92/27/92274a95b7c251fea59a2b8a78275ab4.jpg',\n",
       " 'https://books.toscrape.com/catalogue/page-1.html/media/cache/3d/54/3d54940e57e662c4dd1f3ff00c78cc64.jpg',\n",
       " 'https://books.toscrape.com/catalogue/page-1.html/media/cache/66/88/66883b91f6804b2323c8369331cb7dd1.jpg',\n",
       " 'https://books.toscrape.com/catalogue/page-1.html/media/cache/58/46/5846057e28022268153beff6d352b06c.jpg',\n",
       " 'https://books.toscrape.com/catalogue/page-1.html/media/cache/be/f4/bef44da28c98f905a3ebec0b87be8530.jpg',\n",
       " 'https://books.toscrape.com/catalogue/page-1.html/media/cache/10/48/1048f63d3b5061cd2f424d20b3f9b666.jpg',\n",
       " 'https://books.toscrape.com/catalogue/page-1.html/media/cache/5b/88/5b88c52633f53cacf162c15f4f823153.jpg',\n",
       " 'https://books.toscrape.com/catalogue/page-1.html/media/cache/94/b1/94b1b8b244bce9677c2f29ccc890d4d2.jpg',\n",
       " 'https://books.toscrape.com/catalogue/page-1.html/media/cache/81/c4/81c4a973364e17d01f217e1188253d5e.jpg',\n",
       " 'https://books.toscrape.com/catalogue/page-1.html/media/cache/54/60/54607fe8945897cdcced0044103b10b6.jpg',\n",
       " 'https://books.toscrape.com/catalogue/page-1.html/media/cache/55/33/553310a7162dfbc2c6d19a84da0df9e1.jpg',\n",
       " 'https://books.toscrape.com/catalogue/page-1.html/media/cache/09/a3/09a3aef48557576e1a85ba7efea8ecb7.jpg',\n",
       " 'https://books.toscrape.com/catalogue/page-1.html/media/cache/0b/bc/0bbcd0a6f4bcd81ccb1049a52736406e.jpg',\n",
       " 'https://books.toscrape.com/catalogue/page-1.html/media/cache/27/a5/27a53d0bb95bdd88288eaf66c9230d7e.jpg']"
      ]
     },
     "execution_count": 18,
     "metadata": {},
     "output_type": "execute_result"
    }
   ],
   "source": [
    "images"
   ]
  },
  {
   "cell_type": "code",
   "execution_count": 19,
   "id": "1ffef798",
   "metadata": {},
   "outputs": [],
   "source": [
    "headers = ['title', 'price', 'rating', 'availability', 'image']"
   ]
  },
  {
   "cell_type": "code",
   "execution_count": 20,
   "id": "d3e18cff",
   "metadata": {},
   "outputs": [
    {
     "data": {
      "text/html": [
       "<div>\n",
       "<style scoped>\n",
       "    .dataframe tbody tr th:only-of-type {\n",
       "        vertical-align: middle;\n",
       "    }\n",
       "\n",
       "    .dataframe tbody tr th {\n",
       "        vertical-align: top;\n",
       "    }\n",
       "\n",
       "    .dataframe thead th {\n",
       "        text-align: right;\n",
       "    }\n",
       "</style>\n",
       "<table border=\"1\" class=\"dataframe\">\n",
       "  <thead>\n",
       "    <tr style=\"text-align: right;\">\n",
       "      <th></th>\n",
       "      <th>title</th>\n",
       "      <th>price</th>\n",
       "      <th>rating</th>\n",
       "      <th>availability</th>\n",
       "      <th>image</th>\n",
       "    </tr>\n",
       "  </thead>\n",
       "  <tbody>\n",
       "  </tbody>\n",
       "</table>\n",
       "</div>"
      ],
      "text/plain": [
       "Empty DataFrame\n",
       "Columns: [title, price, rating, availability, image]\n",
       "Index: []"
      ]
     },
     "execution_count": 20,
     "metadata": {},
     "output_type": "execute_result"
    }
   ],
   "source": [
    "df = pd.DataFrame(columns = headers)\n",
    "df"
   ]
  },
  {
   "cell_type": "code",
   "execution_count": 21,
   "id": "156d212f",
   "metadata": {},
   "outputs": [],
   "source": [
    "df['title'] = titles\n",
    "df['price'] = prices\n",
    "df['rating'] = ratings\n",
    "df['availability'] = availability\n",
    "df['image'] = images"
   ]
  },
  {
   "cell_type": "code",
   "execution_count": 22,
   "id": "dd937790",
   "metadata": {},
   "outputs": [
    {
     "data": {
      "text/html": [
       "<div>\n",
       "<style scoped>\n",
       "    .dataframe tbody tr th:only-of-type {\n",
       "        vertical-align: middle;\n",
       "    }\n",
       "\n",
       "    .dataframe tbody tr th {\n",
       "        vertical-align: top;\n",
       "    }\n",
       "\n",
       "    .dataframe thead th {\n",
       "        text-align: right;\n",
       "    }\n",
       "</style>\n",
       "<table border=\"1\" class=\"dataframe\">\n",
       "  <thead>\n",
       "    <tr style=\"text-align: right;\">\n",
       "      <th></th>\n",
       "      <th>title</th>\n",
       "      <th>price</th>\n",
       "      <th>rating</th>\n",
       "      <th>availability</th>\n",
       "      <th>image</th>\n",
       "    </tr>\n",
       "  </thead>\n",
       "  <tbody>\n",
       "    <tr>\n",
       "      <th>0</th>\n",
       "      <td>A Light in the Attic</td>\n",
       "      <td>Â£51.77</td>\n",
       "      <td>Three</td>\n",
       "      <td>In stock</td>\n",
       "      <td>https://books.toscrape.com/catalogue/page-1.ht...</td>\n",
       "    </tr>\n",
       "    <tr>\n",
       "      <th>1</th>\n",
       "      <td>Tipping the Velvet</td>\n",
       "      <td>Â£53.74</td>\n",
       "      <td>One</td>\n",
       "      <td>In stock</td>\n",
       "      <td>https://books.toscrape.com/catalogue/page-1.ht...</td>\n",
       "    </tr>\n",
       "    <tr>\n",
       "      <th>2</th>\n",
       "      <td>Soumission</td>\n",
       "      <td>Â£50.10</td>\n",
       "      <td>One</td>\n",
       "      <td>In stock</td>\n",
       "      <td>https://books.toscrape.com/catalogue/page-1.ht...</td>\n",
       "    </tr>\n",
       "    <tr>\n",
       "      <th>3</th>\n",
       "      <td>Sharp Objects</td>\n",
       "      <td>Â£47.82</td>\n",
       "      <td>Four</td>\n",
       "      <td>In stock</td>\n",
       "      <td>https://books.toscrape.com/catalogue/page-1.ht...</td>\n",
       "    </tr>\n",
       "    <tr>\n",
       "      <th>4</th>\n",
       "      <td>Sapiens: A Brief History of Humankind</td>\n",
       "      <td>Â£54.23</td>\n",
       "      <td>Five</td>\n",
       "      <td>In stock</td>\n",
       "      <td>https://books.toscrape.com/catalogue/page-1.ht...</td>\n",
       "    </tr>\n",
       "    <tr>\n",
       "      <th>5</th>\n",
       "      <td>The Requiem Red</td>\n",
       "      <td>Â£22.65</td>\n",
       "      <td>One</td>\n",
       "      <td>In stock</td>\n",
       "      <td>https://books.toscrape.com/catalogue/page-1.ht...</td>\n",
       "    </tr>\n",
       "    <tr>\n",
       "      <th>6</th>\n",
       "      <td>The Dirty Little Secrets of Getting Your Dream...</td>\n",
       "      <td>Â£33.34</td>\n",
       "      <td>Four</td>\n",
       "      <td>In stock</td>\n",
       "      <td>https://books.toscrape.com/catalogue/page-1.ht...</td>\n",
       "    </tr>\n",
       "    <tr>\n",
       "      <th>7</th>\n",
       "      <td>The Coming Woman: A Novel Based on the Life of...</td>\n",
       "      <td>Â£17.93</td>\n",
       "      <td>Three</td>\n",
       "      <td>In stock</td>\n",
       "      <td>https://books.toscrape.com/catalogue/page-1.ht...</td>\n",
       "    </tr>\n",
       "    <tr>\n",
       "      <th>8</th>\n",
       "      <td>The Boys in the Boat: Nine Americans and Their...</td>\n",
       "      <td>Â£22.60</td>\n",
       "      <td>Four</td>\n",
       "      <td>In stock</td>\n",
       "      <td>https://books.toscrape.com/catalogue/page-1.ht...</td>\n",
       "    </tr>\n",
       "    <tr>\n",
       "      <th>9</th>\n",
       "      <td>The Black Maria</td>\n",
       "      <td>Â£52.15</td>\n",
       "      <td>One</td>\n",
       "      <td>In stock</td>\n",
       "      <td>https://books.toscrape.com/catalogue/page-1.ht...</td>\n",
       "    </tr>\n",
       "    <tr>\n",
       "      <th>10</th>\n",
       "      <td>Starving Hearts (Triangular Trade Trilogy, #1)</td>\n",
       "      <td>Â£13.99</td>\n",
       "      <td>Two</td>\n",
       "      <td>In stock</td>\n",
       "      <td>https://books.toscrape.com/catalogue/page-1.ht...</td>\n",
       "    </tr>\n",
       "    <tr>\n",
       "      <th>11</th>\n",
       "      <td>Shakespeare's Sonnets</td>\n",
       "      <td>Â£20.66</td>\n",
       "      <td>Four</td>\n",
       "      <td>In stock</td>\n",
       "      <td>https://books.toscrape.com/catalogue/page-1.ht...</td>\n",
       "    </tr>\n",
       "    <tr>\n",
       "      <th>12</th>\n",
       "      <td>Set Me Free</td>\n",
       "      <td>Â£17.46</td>\n",
       "      <td>Five</td>\n",
       "      <td>In stock</td>\n",
       "      <td>https://books.toscrape.com/catalogue/page-1.ht...</td>\n",
       "    </tr>\n",
       "    <tr>\n",
       "      <th>13</th>\n",
       "      <td>Scott Pilgrim's Precious Little Life (Scott Pi...</td>\n",
       "      <td>Â£52.29</td>\n",
       "      <td>Five</td>\n",
       "      <td>In stock</td>\n",
       "      <td>https://books.toscrape.com/catalogue/page-1.ht...</td>\n",
       "    </tr>\n",
       "    <tr>\n",
       "      <th>14</th>\n",
       "      <td>Rip it Up and Start Again</td>\n",
       "      <td>Â£35.02</td>\n",
       "      <td>Five</td>\n",
       "      <td>In stock</td>\n",
       "      <td>https://books.toscrape.com/catalogue/page-1.ht...</td>\n",
       "    </tr>\n",
       "    <tr>\n",
       "      <th>15</th>\n",
       "      <td>Our Band Could Be Your Life: Scenes from the A...</td>\n",
       "      <td>Â£57.25</td>\n",
       "      <td>Three</td>\n",
       "      <td>In stock</td>\n",
       "      <td>https://books.toscrape.com/catalogue/page-1.ht...</td>\n",
       "    </tr>\n",
       "    <tr>\n",
       "      <th>16</th>\n",
       "      <td>Olio</td>\n",
       "      <td>Â£23.88</td>\n",
       "      <td>One</td>\n",
       "      <td>In stock</td>\n",
       "      <td>https://books.toscrape.com/catalogue/page-1.ht...</td>\n",
       "    </tr>\n",
       "    <tr>\n",
       "      <th>17</th>\n",
       "      <td>Mesaerion: The Best Science Fiction Stories 18...</td>\n",
       "      <td>Â£37.59</td>\n",
       "      <td>One</td>\n",
       "      <td>In stock</td>\n",
       "      <td>https://books.toscrape.com/catalogue/page-1.ht...</td>\n",
       "    </tr>\n",
       "    <tr>\n",
       "      <th>18</th>\n",
       "      <td>Libertarianism for Beginners</td>\n",
       "      <td>Â£51.33</td>\n",
       "      <td>Two</td>\n",
       "      <td>In stock</td>\n",
       "      <td>https://books.toscrape.com/catalogue/page-1.ht...</td>\n",
       "    </tr>\n",
       "    <tr>\n",
       "      <th>19</th>\n",
       "      <td>It's Only the Himalayas</td>\n",
       "      <td>Â£45.17</td>\n",
       "      <td>Two</td>\n",
       "      <td>In stock</td>\n",
       "      <td>https://books.toscrape.com/catalogue/page-1.ht...</td>\n",
       "    </tr>\n",
       "  </tbody>\n",
       "</table>\n",
       "</div>"
      ],
      "text/plain": [
       "                                                title    price rating  \\\n",
       "0                                A Light in the Attic  Â£51.77  Three   \n",
       "1                                  Tipping the Velvet  Â£53.74    One   \n",
       "2                                          Soumission  Â£50.10    One   \n",
       "3                                       Sharp Objects  Â£47.82   Four   \n",
       "4               Sapiens: A Brief History of Humankind  Â£54.23   Five   \n",
       "5                                     The Requiem Red  Â£22.65    One   \n",
       "6   The Dirty Little Secrets of Getting Your Dream...  Â£33.34   Four   \n",
       "7   The Coming Woman: A Novel Based on the Life of...  Â£17.93  Three   \n",
       "8   The Boys in the Boat: Nine Americans and Their...  Â£22.60   Four   \n",
       "9                                     The Black Maria  Â£52.15    One   \n",
       "10     Starving Hearts (Triangular Trade Trilogy, #1)  Â£13.99    Two   \n",
       "11                              Shakespeare's Sonnets  Â£20.66   Four   \n",
       "12                                        Set Me Free  Â£17.46   Five   \n",
       "13  Scott Pilgrim's Precious Little Life (Scott Pi...  Â£52.29   Five   \n",
       "14                          Rip it Up and Start Again  Â£35.02   Five   \n",
       "15  Our Band Could Be Your Life: Scenes from the A...  Â£57.25  Three   \n",
       "16                                               Olio  Â£23.88    One   \n",
       "17  Mesaerion: The Best Science Fiction Stories 18...  Â£37.59    One   \n",
       "18                       Libertarianism for Beginners  Â£51.33    Two   \n",
       "19                            It's Only the Himalayas  Â£45.17    Two   \n",
       "\n",
       "   availability                                              image  \n",
       "0      In stock  https://books.toscrape.com/catalogue/page-1.ht...  \n",
       "1      In stock  https://books.toscrape.com/catalogue/page-1.ht...  \n",
       "2      In stock  https://books.toscrape.com/catalogue/page-1.ht...  \n",
       "3      In stock  https://books.toscrape.com/catalogue/page-1.ht...  \n",
       "4      In stock  https://books.toscrape.com/catalogue/page-1.ht...  \n",
       "5      In stock  https://books.toscrape.com/catalogue/page-1.ht...  \n",
       "6      In stock  https://books.toscrape.com/catalogue/page-1.ht...  \n",
       "7      In stock  https://books.toscrape.com/catalogue/page-1.ht...  \n",
       "8      In stock  https://books.toscrape.com/catalogue/page-1.ht...  \n",
       "9      In stock  https://books.toscrape.com/catalogue/page-1.ht...  \n",
       "10     In stock  https://books.toscrape.com/catalogue/page-1.ht...  \n",
       "11     In stock  https://books.toscrape.com/catalogue/page-1.ht...  \n",
       "12     In stock  https://books.toscrape.com/catalogue/page-1.ht...  \n",
       "13     In stock  https://books.toscrape.com/catalogue/page-1.ht...  \n",
       "14     In stock  https://books.toscrape.com/catalogue/page-1.ht...  \n",
       "15     In stock  https://books.toscrape.com/catalogue/page-1.ht...  \n",
       "16     In stock  https://books.toscrape.com/catalogue/page-1.ht...  \n",
       "17     In stock  https://books.toscrape.com/catalogue/page-1.ht...  \n",
       "18     In stock  https://books.toscrape.com/catalogue/page-1.ht...  \n",
       "19     In stock  https://books.toscrape.com/catalogue/page-1.ht...  "
      ]
     },
     "execution_count": 22,
     "metadata": {},
     "output_type": "execute_result"
    }
   ],
   "source": [
    "df"
   ]
  },
  {
   "cell_type": "markdown",
   "id": "650c6bc3",
   "metadata": {},
   "source": [
    "# Entire Site Scrapping (All 50 pages)"
   ]
  },
  {
   "cell_type": "code",
   "execution_count": 23,
   "id": "19cae704",
   "metadata": {},
   "outputs": [],
   "source": [
    "def extract_data(x):\n",
    "    for k in soup_obj.find_all('h3'):\n",
    "        for i in k:\n",
    "            titles.append(i.get('title'))\n",
    "        \n",
    "    for price in soup_obj.find_all('p', 'price_color'):\n",
    "        prices.append(price.text)\n",
    "        \n",
    "    for i in soup_obj.find_all('p', 'star-rating'):\n",
    "        ratings.append(i.get('class')[1])\n",
    "    \n",
    "    for i in soup_obj.find_all('p', 'availability'):\n",
    "        availability.append(i.text.strip())\n",
    "        \n",
    "    for i in soup_obj.find_all('img'):\n",
    "        images.append(i.get('src').replace('..', 'https://books.toscrape.com/catalogue/page-1.html'))"
   ]
  },
  {
   "cell_type": "code",
   "execution_count": 24,
   "id": "70328fb8",
   "metadata": {},
   "outputs": [],
   "source": [
    "titles = []\n",
    "prices = []\n",
    "ratings = []\n",
    "availability = []\n",
    "images = []"
   ]
  },
  {
   "cell_type": "code",
   "execution_count": 25,
   "id": "4177b0f2",
   "metadata": {},
   "outputs": [],
   "source": [
    "urls = []\n",
    "num_of_pages = 50\n",
    "\n",
    "for i in range(1, num_of_pages+1):\n",
    "    urls.append(f'https://books.toscrape.com/catalogue/page-1.html')"
   ]
  },
  {
   "cell_type": "code",
   "execution_count": 26,
   "id": "6555f8d9",
   "metadata": {},
   "outputs": [],
   "source": [
    "for i in urls:\n",
    "    response = requests.get(i)\n",
    "    soup = BeautifulSoup(response.text, 'html.parser')\n",
    "    \n",
    "    extract_data(soup)"
   ]
  },
  {
   "cell_type": "code",
   "execution_count": 27,
   "id": "00765dd1",
   "metadata": {},
   "outputs": [
    {
     "data": {
      "text/html": [
       "<div>\n",
       "<style scoped>\n",
       "    .dataframe tbody tr th:only-of-type {\n",
       "        vertical-align: middle;\n",
       "    }\n",
       "\n",
       "    .dataframe tbody tr th {\n",
       "        vertical-align: top;\n",
       "    }\n",
       "\n",
       "    .dataframe thead th {\n",
       "        text-align: right;\n",
       "    }\n",
       "</style>\n",
       "<table border=\"1\" class=\"dataframe\">\n",
       "  <thead>\n",
       "    <tr style=\"text-align: right;\">\n",
       "      <th></th>\n",
       "      <th>title</th>\n",
       "      <th>price</th>\n",
       "      <th>rating</th>\n",
       "      <th>availability</th>\n",
       "      <th>image</th>\n",
       "    </tr>\n",
       "  </thead>\n",
       "  <tbody>\n",
       "  </tbody>\n",
       "</table>\n",
       "</div>"
      ],
      "text/plain": [
       "Empty DataFrame\n",
       "Columns: [title, price, rating, availability, image]\n",
       "Index: []"
      ]
     },
     "execution_count": 27,
     "metadata": {},
     "output_type": "execute_result"
    }
   ],
   "source": [
    "df = pd.DataFrame(columns = headers)\n",
    "df"
   ]
  },
  {
   "cell_type": "code",
   "execution_count": 28,
   "id": "aa97b365",
   "metadata": {},
   "outputs": [
    {
     "data": {
      "text/html": [
       "<div>\n",
       "<style scoped>\n",
       "    .dataframe tbody tr th:only-of-type {\n",
       "        vertical-align: middle;\n",
       "    }\n",
       "\n",
       "    .dataframe tbody tr th {\n",
       "        vertical-align: top;\n",
       "    }\n",
       "\n",
       "    .dataframe thead th {\n",
       "        text-align: right;\n",
       "    }\n",
       "</style>\n",
       "<table border=\"1\" class=\"dataframe\">\n",
       "  <thead>\n",
       "    <tr style=\"text-align: right;\">\n",
       "      <th></th>\n",
       "      <th>title</th>\n",
       "      <th>price</th>\n",
       "      <th>rating</th>\n",
       "      <th>availability</th>\n",
       "      <th>image</th>\n",
       "    </tr>\n",
       "  </thead>\n",
       "  <tbody>\n",
       "    <tr>\n",
       "      <th>0</th>\n",
       "      <td>A Light in the Attic</td>\n",
       "      <td>Â£51.77</td>\n",
       "      <td>Three</td>\n",
       "      <td>In stock</td>\n",
       "      <td>https://books.toscrape.com/catalogue/page-1.ht...</td>\n",
       "    </tr>\n",
       "    <tr>\n",
       "      <th>1</th>\n",
       "      <td>Tipping the Velvet</td>\n",
       "      <td>Â£53.74</td>\n",
       "      <td>One</td>\n",
       "      <td>In stock</td>\n",
       "      <td>https://books.toscrape.com/catalogue/page-1.ht...</td>\n",
       "    </tr>\n",
       "    <tr>\n",
       "      <th>2</th>\n",
       "      <td>Soumission</td>\n",
       "      <td>Â£50.10</td>\n",
       "      <td>One</td>\n",
       "      <td>In stock</td>\n",
       "      <td>https://books.toscrape.com/catalogue/page-1.ht...</td>\n",
       "    </tr>\n",
       "    <tr>\n",
       "      <th>3</th>\n",
       "      <td>Sharp Objects</td>\n",
       "      <td>Â£47.82</td>\n",
       "      <td>Four</td>\n",
       "      <td>In stock</td>\n",
       "      <td>https://books.toscrape.com/catalogue/page-1.ht...</td>\n",
       "    </tr>\n",
       "    <tr>\n",
       "      <th>4</th>\n",
       "      <td>Sapiens: A Brief History of Humankind</td>\n",
       "      <td>Â£54.23</td>\n",
       "      <td>Five</td>\n",
       "      <td>In stock</td>\n",
       "      <td>https://books.toscrape.com/catalogue/page-1.ht...</td>\n",
       "    </tr>\n",
       "  </tbody>\n",
       "</table>\n",
       "</div>"
      ],
      "text/plain": [
       "                                   title    price rating availability  \\\n",
       "0                   A Light in the Attic  Â£51.77  Three     In stock   \n",
       "1                     Tipping the Velvet  Â£53.74    One     In stock   \n",
       "2                             Soumission  Â£50.10    One     In stock   \n",
       "3                          Sharp Objects  Â£47.82   Four     In stock   \n",
       "4  Sapiens: A Brief History of Humankind  Â£54.23   Five     In stock   \n",
       "\n",
       "                                               image  \n",
       "0  https://books.toscrape.com/catalogue/page-1.ht...  \n",
       "1  https://books.toscrape.com/catalogue/page-1.ht...  \n",
       "2  https://books.toscrape.com/catalogue/page-1.ht...  \n",
       "3  https://books.toscrape.com/catalogue/page-1.ht...  \n",
       "4  https://books.toscrape.com/catalogue/page-1.ht...  "
      ]
     },
     "execution_count": 28,
     "metadata": {},
     "output_type": "execute_result"
    }
   ],
   "source": [
    "df['title'] = titles\n",
    "df['price'] = prices\n",
    "df['rating'] = ratings\n",
    "df['availability'] = availability\n",
    "df['image'] = images\n",
    "\n",
    "df.head()"
   ]
  },
  {
   "cell_type": "markdown",
   "id": "6b4b3676",
   "metadata": {},
   "source": [
    "# Load Process"
   ]
  },
  {
   "cell_type": "code",
   "execution_count": 29,
   "id": "4d400b6a",
   "metadata": {},
   "outputs": [],
   "source": [
    "df.to_csv('Books_to_scrape.csv', index = False)"
   ]
  }
 ],
 "metadata": {
  "kernelspec": {
   "display_name": "Python 3 (ipykernel)",
   "language": "python",
   "name": "python3"
  },
  "language_info": {
   "codemirror_mode": {
    "name": "ipython",
    "version": 3
   },
   "file_extension": ".py",
   "mimetype": "text/x-python",
   "name": "python",
   "nbconvert_exporter": "python",
   "pygments_lexer": "ipython3",
   "version": "3.9.12"
  }
 },
 "nbformat": 4,
 "nbformat_minor": 5
}
