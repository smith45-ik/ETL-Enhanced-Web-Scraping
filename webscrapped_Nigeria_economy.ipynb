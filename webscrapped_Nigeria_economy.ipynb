{
 "cells": [
  {
   "cell_type": "markdown",
   "id": "222668df",
   "metadata": {},
   "source": [
    "# Import Labraries"
   ]
  },
  {
   "cell_type": "code",
   "execution_count": 1,
   "id": "f92fd4f7",
   "metadata": {},
   "outputs": [],
   "source": [
    "import pandas as pd\n",
    "import requests\n",
    "from bs4 import BeautifulSoup"
   ]
  },
  {
   "cell_type": "markdown",
   "id": "0c1dc5fe",
   "metadata": {},
   "source": [
    "# Extraction"
   ]
  },
  {
   "cell_type": "code",
   "execution_count": 2,
   "id": "8b8572a5",
   "metadata": {},
   "outputs": [],
   "source": [
    "url = 'https://en.wikipedia.org/wiki/Economy_of_Nigeria'"
   ]
  },
  {
   "cell_type": "code",
   "execution_count": 3,
   "id": "3cb1122d",
   "metadata": {},
   "outputs": [],
   "source": [
    "response = requests.get(url)"
   ]
  },
  {
   "cell_type": "code",
   "execution_count": 4,
   "id": "d4e6fd63",
   "metadata": {},
   "outputs": [
    {
     "data": {
      "text/plain": [
       "<Response [200]>"
      ]
     },
     "execution_count": 4,
     "metadata": {},
     "output_type": "execute_result"
    }
   ],
   "source": [
    "response"
   ]
  },
  {
   "cell_type": "code",
   "execution_count": 5,
   "id": "e34aefc3",
   "metadata": {},
   "outputs": [],
   "source": [
    "soup_obj = BeautifulSoup(response.text, 'html.parser')"
   ]
  },
  {
   "cell_type": "code",
   "execution_count": 6,
   "id": "6f0bdab3",
   "metadata": {},
   "outputs": [
    {
     "data": {
      "text/plain": [
       "17"
      ]
     },
     "execution_count": 6,
     "metadata": {},
     "output_type": "execute_result"
    }
   ],
   "source": [
    "tables = soup_obj.find_all('table')\n",
    "len(tables)"
   ]
  },
  {
   "cell_type": "code",
   "execution_count": 7,
   "id": "ef37c70c",
   "metadata": {},
   "outputs": [],
   "source": [
    "table = tables[1]"
   ]
  },
  {
   "cell_type": "code",
   "execution_count": 8,
   "id": "53eb927d",
   "metadata": {},
   "outputs": [
    {
     "data": {
      "text/plain": [
       "[<th>Year\n",
       " </th>,\n",
       " <th>GDP\n",
       " <p><small>(in Bil. US$PPP)</small>\n",
       " </p>\n",
       " </th>,\n",
       " <th>GDP per capita\n",
       " <p><small>(in US$ PPP)</small>\n",
       " </p>\n",
       " </th>,\n",
       " <th>GDP\n",
       " <p><small>(in Bil. US$nominal)</small>\n",
       " </p>\n",
       " </th>,\n",
       " <th>GDP per capita\n",
       " <p><small>(in US$ nominal)</small>\n",
       " </p>\n",
       " </th>,\n",
       " <th>GDP growth\n",
       " <p><small>(real)</small>\n",
       " </p>\n",
       " </th>,\n",
       " <th>Inflation rate\n",
       " <p><small>(in Percent)</small>\n",
       " </p>\n",
       " </th>,\n",
       " <th>Unemployment\n",
       " <p><small>(in Percent)</small>\n",
       " </p>\n",
       " </th>,\n",
       " <th>Government debt\n",
       " <p><small>(in % of GDP)</small>\n",
       " </p>\n",
       " </th>]"
      ]
     },
     "execution_count": 8,
     "metadata": {},
     "output_type": "execute_result"
    }
   ],
   "source": [
    "table.find_all('th')"
   ]
  },
  {
   "cell_type": "code",
   "execution_count": 9,
   "id": "037612fa",
   "metadata": {},
   "outputs": [
    {
     "data": {
      "text/plain": [
       "['Year',\n",
       " 'GDP(in Bil. US$PPP)',\n",
       " 'GDP per capita(in US$ PPP)',\n",
       " 'GDP(in Bil. US$nominal)',\n",
       " 'GDP per capita(in US$ nominal)',\n",
       " 'GDP growth(real)',\n",
       " 'Inflation rate(in Percent)',\n",
       " 'Unemployment(in Percent)',\n",
       " 'Government debt(in % of GDP)']"
      ]
     },
     "execution_count": 9,
     "metadata": {},
     "output_type": "execute_result"
    }
   ],
   "source": [
    "column_headers = table.find_all('th')\n",
    "headers = []\n",
    "\n",
    "for colname in column_headers:\n",
    "    headers.append(colname.text.strip().replace('\\n', '', ).replace('\\xa0', ' '))\n",
    "    \n",
    "headers"
   ]
  },
  {
   "cell_type": "code",
   "execution_count": 10,
   "id": "a8294d69",
   "metadata": {},
   "outputs": [
    {
     "data": {
      "text/html": [
       "<div>\n",
       "<style scoped>\n",
       "    .dataframe tbody tr th:only-of-type {\n",
       "        vertical-align: middle;\n",
       "    }\n",
       "\n",
       "    .dataframe tbody tr th {\n",
       "        vertical-align: top;\n",
       "    }\n",
       "\n",
       "    .dataframe thead th {\n",
       "        text-align: right;\n",
       "    }\n",
       "</style>\n",
       "<table border=\"1\" class=\"dataframe\">\n",
       "  <thead>\n",
       "    <tr style=\"text-align: right;\">\n",
       "      <th></th>\n",
       "      <th>Year</th>\n",
       "      <th>GDP(in Bil. US$PPP)</th>\n",
       "      <th>GDP per capita(in US$ PPP)</th>\n",
       "      <th>GDP(in Bil. US$nominal)</th>\n",
       "      <th>GDP per capita(in US$ nominal)</th>\n",
       "      <th>GDP growth(real)</th>\n",
       "      <th>Inflation rate(in Percent)</th>\n",
       "      <th>Unemployment(in Percent)</th>\n",
       "      <th>Government debt(in % of GDP)</th>\n",
       "    </tr>\n",
       "  </thead>\n",
       "  <tbody>\n",
       "  </tbody>\n",
       "</table>\n",
       "</div>"
      ],
      "text/plain": [
       "Empty DataFrame\n",
       "Columns: [Year, GDP(in Bil. US$PPP), GDP per capita(in US$ PPP), GDP(in Bil. US$nominal), GDP per capita(in US$ nominal), GDP growth(real), Inflation rate(in Percent), Unemployment(in Percent), Government debt(in % of GDP)]\n",
       "Index: []"
      ]
     },
     "execution_count": 10,
     "metadata": {},
     "output_type": "execute_result"
    }
   ],
   "source": [
    "df = pd.DataFrame(columns = headers)\n",
    "df"
   ]
  },
  {
   "cell_type": "code",
   "execution_count": 11,
   "id": "511d0394",
   "metadata": {},
   "outputs": [],
   "source": [
    "rows = table.find_all('tr')[1:]\n",
    "for row in rows:\n",
    "    data = row.find_all('td')\n",
    "    single_row_data = [i.text.strip() for i in data]\n",
    "    \n",
    "    length = len(df)\n",
    "    df.loc[length] = single_row_data"
   ]
  },
  {
   "cell_type": "code",
   "execution_count": 12,
   "id": "1ca3c7f8",
   "metadata": {},
   "outputs": [
    {
     "data": {
      "text/html": [
       "<div>\n",
       "<style scoped>\n",
       "    .dataframe tbody tr th:only-of-type {\n",
       "        vertical-align: middle;\n",
       "    }\n",
       "\n",
       "    .dataframe tbody tr th {\n",
       "        vertical-align: top;\n",
       "    }\n",
       "\n",
       "    .dataframe thead th {\n",
       "        text-align: right;\n",
       "    }\n",
       "</style>\n",
       "<table border=\"1\" class=\"dataframe\">\n",
       "  <thead>\n",
       "    <tr style=\"text-align: right;\">\n",
       "      <th></th>\n",
       "      <th>Year</th>\n",
       "      <th>GDP(in Bil. US$PPP)</th>\n",
       "      <th>GDP per capita(in US$ PPP)</th>\n",
       "      <th>GDP(in Bil. US$nominal)</th>\n",
       "      <th>GDP per capita(in US$ nominal)</th>\n",
       "      <th>GDP growth(real)</th>\n",
       "      <th>Inflation rate(in Percent)</th>\n",
       "      <th>Unemployment(in Percent)</th>\n",
       "      <th>Government debt(in % of GDP)</th>\n",
       "    </tr>\n",
       "  </thead>\n",
       "  <tbody>\n",
       "    <tr>\n",
       "      <th>0</th>\n",
       "      <td>1990</td>\n",
       "      <td>174.0</td>\n",
       "      <td>1,827.1</td>\n",
       "      <td>62.2</td>\n",
       "      <td>652.9</td>\n",
       "      <td>n/a</td>\n",
       "      <td>n/a</td>\n",
       "      <td>n/a</td>\n",
       "      <td>71.7%</td>\n",
       "    </tr>\n",
       "    <tr>\n",
       "      <th>1</th>\n",
       "      <td>1991</td>\n",
       "      <td>178.9</td>\n",
       "      <td>1,831.2</td>\n",
       "      <td>60.1</td>\n",
       "      <td>615.7</td>\n",
       "      <td>-0.6%</td>\n",
       "      <td>n/a</td>\n",
       "      <td>4.1%</td>\n",
       "      <td>75.0%</td>\n",
       "    </tr>\n",
       "    <tr>\n",
       "      <th>2</th>\n",
       "      <td>1992</td>\n",
       "      <td>186.9</td>\n",
       "      <td>1,866.4</td>\n",
       "      <td>52.3</td>\n",
       "      <td>521.9</td>\n",
       "      <td>2.2%</td>\n",
       "      <td>n/a</td>\n",
       "      <td>4.1%</td>\n",
       "      <td>70.2%</td>\n",
       "    </tr>\n",
       "    <tr>\n",
       "      <th>3</th>\n",
       "      <td>1993</td>\n",
       "      <td>194.4</td>\n",
       "      <td>1,892.6</td>\n",
       "      <td>56.8</td>\n",
       "      <td>553.1</td>\n",
       "      <td>1.6%</td>\n",
       "      <td>n/a</td>\n",
       "      <td>4.1%</td>\n",
       "      <td>71.0%</td>\n",
       "    </tr>\n",
       "    <tr>\n",
       "      <th>4</th>\n",
       "      <td>1994</td>\n",
       "      <td>199.0</td>\n",
       "      <td>1,890.3</td>\n",
       "      <td>80.1</td>\n",
       "      <td>761.0</td>\n",
       "      <td>0.3%</td>\n",
       "      <td>n/a</td>\n",
       "      <td>4.1%</td>\n",
       "      <td>55.9%</td>\n",
       "    </tr>\n",
       "  </tbody>\n",
       "</table>\n",
       "</div>"
      ],
      "text/plain": [
       "   Year GDP(in Bil. US$PPP) GDP per capita(in US$ PPP)  \\\n",
       "0  1990               174.0                    1,827.1   \n",
       "1  1991               178.9                    1,831.2   \n",
       "2  1992               186.9                    1,866.4   \n",
       "3  1993               194.4                    1,892.6   \n",
       "4  1994               199.0                    1,890.3   \n",
       "\n",
       "  GDP(in Bil. US$nominal) GDP per capita(in US$ nominal) GDP growth(real)  \\\n",
       "0                    62.2                          652.9              n/a   \n",
       "1                    60.1                          615.7            -0.6%   \n",
       "2                    52.3                          521.9             2.2%   \n",
       "3                    56.8                          553.1             1.6%   \n",
       "4                    80.1                          761.0             0.3%   \n",
       "\n",
       "  Inflation rate(in Percent) Unemployment(in Percent)  \\\n",
       "0                        n/a                      n/a   \n",
       "1                        n/a                     4.1%   \n",
       "2                        n/a                     4.1%   \n",
       "3                        n/a                     4.1%   \n",
       "4                        n/a                     4.1%   \n",
       "\n",
       "  Government debt(in % of GDP)  \n",
       "0                        71.7%  \n",
       "1                        75.0%  \n",
       "2                        70.2%  \n",
       "3                        71.0%  \n",
       "4                        55.9%  "
      ]
     },
     "execution_count": 12,
     "metadata": {},
     "output_type": "execute_result"
    }
   ],
   "source": [
    "df.head()"
   ]
  },
  {
   "cell_type": "markdown",
   "id": "f4178ae0",
   "metadata": {},
   "source": [
    "# Transformation"
   ]
  },
  {
   "cell_type": "code",
   "execution_count": 13,
   "id": "07c377d2",
   "metadata": {},
   "outputs": [
    {
     "data": {
      "text/plain": [
       "Year                              object\n",
       "GDP(in Bil. US$PPP)               object\n",
       "GDP per capita(in US$ PPP)        object\n",
       "GDP(in Bil. US$nominal)           object\n",
       "GDP per capita(in US$ nominal)    object\n",
       "GDP growth(real)                  object\n",
       "Inflation rate(in Percent)        object\n",
       "Unemployment(in Percent)          object\n",
       "Government debt(in % of GDP)      object\n",
       "dtype: object"
      ]
     },
     "execution_count": 13,
     "metadata": {},
     "output_type": "execute_result"
    }
   ],
   "source": [
    "df.dtypes"
   ]
  },
  {
   "cell_type": "code",
   "execution_count": 15,
   "id": "3b52c1b7",
   "metadata": {},
   "outputs": [],
   "source": [
    "#removing '%'\n",
    "df['GDP growth(real)'] = df['GDP growth(real)'].str.replace('%', '')\n",
    "df['Unemployment(in Percent)'] = df['Unemployment(in Percent)'].str.replace('%', '')\n",
    "df['Government debt(in % of GDP)'] = df['Government debt(in % of GDP)'].str.replace('%', '')\n",
    "df['GDP(in Bil. US$PPP)'] = df['GDP(in Bil. US$PPP)'].str.replace(',', '')\n",
    "df['GDP per capita(in US$ PPP)'] = df['GDP per capita(in US$ PPP)'].str.replace(',', '')\n",
    "df['GDP(in Bil. US$nominal)'] = df['GDP(in Bil. US$nominal)'].str.replace(',', '')\n",
    "df['GDP per capita(in US$ nominal)'] = df['GDP per capita(in US$ nominal)'].str.replace(',', '')\n",
    "\n"
   ]
  },
  {
   "cell_type": "code",
   "execution_count": 16,
   "id": "41011da9",
   "metadata": {
    "scrolled": true
   },
   "outputs": [
    {
     "data": {
      "text/html": [
       "<div>\n",
       "<style scoped>\n",
       "    .dataframe tbody tr th:only-of-type {\n",
       "        vertical-align: middle;\n",
       "    }\n",
       "\n",
       "    .dataframe tbody tr th {\n",
       "        vertical-align: top;\n",
       "    }\n",
       "\n",
       "    .dataframe thead th {\n",
       "        text-align: right;\n",
       "    }\n",
       "</style>\n",
       "<table border=\"1\" class=\"dataframe\">\n",
       "  <thead>\n",
       "    <tr style=\"text-align: right;\">\n",
       "      <th></th>\n",
       "      <th>Year</th>\n",
       "      <th>GDP(in Bil. US$PPP)</th>\n",
       "      <th>GDP per capita(in US$ PPP)</th>\n",
       "      <th>GDP(in Bil. US$nominal)</th>\n",
       "      <th>GDP per capita(in US$ nominal)</th>\n",
       "      <th>GDP growth(real)</th>\n",
       "      <th>Inflation rate(in Percent)</th>\n",
       "      <th>Unemployment(in Percent)</th>\n",
       "      <th>Government debt(in % of GDP)</th>\n",
       "    </tr>\n",
       "  </thead>\n",
       "  <tbody>\n",
       "    <tr>\n",
       "      <th>0</th>\n",
       "      <td>1990</td>\n",
       "      <td>174.0</td>\n",
       "      <td>1827.1</td>\n",
       "      <td>62.2</td>\n",
       "      <td>652.9</td>\n",
       "      <td>n/a</td>\n",
       "      <td>n/a</td>\n",
       "      <td>n/a</td>\n",
       "      <td>71.7</td>\n",
       "    </tr>\n",
       "    <tr>\n",
       "      <th>1</th>\n",
       "      <td>1991</td>\n",
       "      <td>178.9</td>\n",
       "      <td>1831.2</td>\n",
       "      <td>60.1</td>\n",
       "      <td>615.7</td>\n",
       "      <td>-0.6</td>\n",
       "      <td>n/a</td>\n",
       "      <td>4.1</td>\n",
       "      <td>75.0</td>\n",
       "    </tr>\n",
       "    <tr>\n",
       "      <th>2</th>\n",
       "      <td>1992</td>\n",
       "      <td>186.9</td>\n",
       "      <td>1866.4</td>\n",
       "      <td>52.3</td>\n",
       "      <td>521.9</td>\n",
       "      <td>2.2</td>\n",
       "      <td>n/a</td>\n",
       "      <td>4.1</td>\n",
       "      <td>70.2</td>\n",
       "    </tr>\n",
       "    <tr>\n",
       "      <th>3</th>\n",
       "      <td>1993</td>\n",
       "      <td>194.4</td>\n",
       "      <td>1892.6</td>\n",
       "      <td>56.8</td>\n",
       "      <td>553.1</td>\n",
       "      <td>1.6</td>\n",
       "      <td>n/a</td>\n",
       "      <td>4.1</td>\n",
       "      <td>71.0</td>\n",
       "    </tr>\n",
       "    <tr>\n",
       "      <th>4</th>\n",
       "      <td>1994</td>\n",
       "      <td>199.0</td>\n",
       "      <td>1890.3</td>\n",
       "      <td>80.1</td>\n",
       "      <td>761.0</td>\n",
       "      <td>0.3</td>\n",
       "      <td>n/a</td>\n",
       "      <td>4.1</td>\n",
       "      <td>55.9</td>\n",
       "    </tr>\n",
       "  </tbody>\n",
       "</table>\n",
       "</div>"
      ],
      "text/plain": [
       "   Year GDP(in Bil. US$PPP) GDP per capita(in US$ PPP)  \\\n",
       "0  1990               174.0                     1827.1   \n",
       "1  1991               178.9                     1831.2   \n",
       "2  1992               186.9                     1866.4   \n",
       "3  1993               194.4                     1892.6   \n",
       "4  1994               199.0                     1890.3   \n",
       "\n",
       "  GDP(in Bil. US$nominal) GDP per capita(in US$ nominal) GDP growth(real)  \\\n",
       "0                    62.2                          652.9              n/a   \n",
       "1                    60.1                          615.7             -0.6   \n",
       "2                    52.3                          521.9              2.2   \n",
       "3                    56.8                          553.1              1.6   \n",
       "4                    80.1                          761.0              0.3   \n",
       "\n",
       "  Inflation rate(in Percent) Unemployment(in Percent)  \\\n",
       "0                        n/a                      n/a   \n",
       "1                        n/a                      4.1   \n",
       "2                        n/a                      4.1   \n",
       "3                        n/a                      4.1   \n",
       "4                        n/a                      4.1   \n",
       "\n",
       "  Government debt(in % of GDP)  \n",
       "0                         71.7  \n",
       "1                         75.0  \n",
       "2                         70.2  \n",
       "3                         71.0  \n",
       "4                         55.9  "
      ]
     },
     "execution_count": 16,
     "metadata": {},
     "output_type": "execute_result"
    }
   ],
   "source": [
    "df.head()"
   ]
  },
  {
   "cell_type": "code",
   "execution_count": 18,
   "id": "6ba93361",
   "metadata": {},
   "outputs": [],
   "source": [
    "df['Year'] = df['Year'].astype('int')\n",
    "df['GDP(in Bil. US$PPP)'] = df['GDP(in Bil. US$PPP)'].astype('float')\n",
    "df['GDP per capita(in US$ PPP)'] = df['GDP per capita(in US$ PPP)'].astype('float')\n",
    "df['GDP(in Bil. US$nominal)'] = df['GDP(in Bil. US$nominal)'].astype('float')\n",
    "df['GDP per capita(in US$ nominal)'] = df['GDP per capita(in US$ nominal)'].astype('float')\n",
    "df['GDP growth(real)'] = df['GDP growth(real)'].astype('string')\n",
    "df['Inflation rate(in Percent)'] = df['Inflation rate(in Percent)'].astype('string')\n",
    "df['Unemployment(in Percent)'] = df['Unemployment(in Percent)'].astype('string')\n",
    "df['Government debt(in % of GDP)'] = df['Government debt(in % of GDP)'].astype('float')"
   ]
  },
  {
   "cell_type": "code",
   "execution_count": 19,
   "id": "4d7e60fd",
   "metadata": {},
   "outputs": [
    {
     "data": {
      "text/plain": [
       "Year                                int32\n",
       "GDP(in Bil. US$PPP)               float64\n",
       "GDP per capita(in US$ PPP)        float64\n",
       "GDP(in Bil. US$nominal)           float64\n",
       "GDP per capita(in US$ nominal)    float64\n",
       "GDP growth(real)                   string\n",
       "Inflation rate(in Percent)         string\n",
       "Unemployment(in Percent)           string\n",
       "Government debt(in % of GDP)      float64\n",
       "dtype: object"
      ]
     },
     "execution_count": 19,
     "metadata": {},
     "output_type": "execute_result"
    }
   ],
   "source": [
    "df.dtypes"
   ]
  },
  {
   "cell_type": "markdown",
   "id": "fa8b7ee7",
   "metadata": {},
   "source": [
    "# Load Process"
   ]
  },
  {
   "cell_type": "code",
   "execution_count": 21,
   "id": "b3fd7d07",
   "metadata": {},
   "outputs": [],
   "source": [
    "df.to_csv('Webscrapped_Nigeria_Economy.csv', index = False)"
   ]
  },
  {
   "cell_type": "code",
   "execution_count": null,
   "id": "c46df90b",
   "metadata": {},
   "outputs": [],
   "source": []
  }
 ],
 "metadata": {
  "kernelspec": {
   "display_name": "Python 3 (ipykernel)",
   "language": "python",
   "name": "python3"
  },
  "language_info": {
   "codemirror_mode": {
    "name": "ipython",
    "version": 3
   },
   "file_extension": ".py",
   "mimetype": "text/x-python",
   "name": "python",
   "nbconvert_exporter": "python",
   "pygments_lexer": "ipython3",
   "version": "3.9.12"
  }
 },
 "nbformat": 4,
 "nbformat_minor": 5
}
